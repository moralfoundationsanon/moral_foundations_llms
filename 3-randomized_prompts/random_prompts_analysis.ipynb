{
 "cells": [
  {
   "cell_type": "markdown",
   "id": "6ab86b4b",
   "metadata": {},
   "source": [
    "# Effect of Random Prompts"
   ]
  },
  {
   "cell_type": "code",
   "execution_count": 1,
   "id": "c5de9de7",
   "metadata": {},
   "outputs": [],
   "source": [
    "import warnings\n",
    "warnings.filterwarnings('ignore')\n",
    "# Use 'haidt_random_corpus.py.py' to generate all of the .pkl files needed to run these cells\n",
    "# TODOs: make sure to change base_folder variable (determining lm, generative vs scroing) on where you want to save all files for both notebook and python script\n",
    "\n",
    "base_folder = \"generative_gpt3/\""
   ]
  },
  {
   "cell_type": "code",
   "execution_count": 2,
   "id": "df83e4ec",
   "metadata": {},
   "outputs": [],
   "source": [
    "# Import Moral Foundations Utils\n",
    "import sys\n",
    "import os \n",
    "parent_directory =  os.path.dirname(os.getcwd())\n",
    "sys.path.append(parent_directory)\n",
    "from utils.questionnaire_utils import *\n",
    "\n",
    "# Visualization Imports \n",
    "import seaborn as sns\n",
    "import pylab as plot\n",
    "import matplotlib.pyplot as plt\n",
    "import numpy as np\n",
    "from itertools import cycle\n",
    "import pickle \n",
    "import torch\n",
    "sns.set_style(\"ticks\")\n",
    "sns.set_palette(sns.color_palette(\"bright\", 11))\n",
    "plt.rc('text', usetex=False)\n",
    "plt.rc('font', family='serif')\n",
    "params = {'legend.fontsize': 12}\n",
    "plot.rcParams.update(params)\n",
    "plt.rc('xtick',labelsize=17)\n",
    "plt.rc('ytick',labelsize=17)"
   ]
  },
  {
   "cell_type": "code",
   "execution_count": 3,
   "id": "f85ab408",
   "metadata": {},
   "outputs": [],
   "source": [
    "def return_haidt_foundations(file):\n",
    "    with open(base_folder + file, 'rb') as f:\n",
    "        data = pickle.load(f)\n",
    "\n",
    "    x = [[int(float(j)) for j in i] for i in data]\n",
    "\n",
    "    answers_mean = torch.mode(torch.tensor(x).to(torch.float64), dim=1)[0]\n",
    "    answers_std = torch.mode(torch.tensor(x).to(torch.float64), dim=1)[1]\n",
    "\n",
    "    values_avg = compute_mfq(answers_mean)\n",
    "    values_dict = {value_labels[value]:values_avg[value].item() for value in range(len(value_labels))}\n",
    "    returned_scores = [i.item() for i in values_avg[:5]]\n",
    "    return returned_scores"
   ]
  },
  {
   "cell_type": "code",
   "execution_count": 4,
   "id": "99b423ef",
   "metadata": {},
   "outputs": [],
   "source": [
    "num_files = 14\n",
    "file_location = \"text-davinci-002/engine_text-davinci-002_prompt_\" \n",
    "value_labels = [\"Harm\", \"Fairness\", \"Ingroup\", \"Authority\", \"Purity\"]\n",
    "values = []\n",
    "for i in range(num_files):\n",
    "    file = file_location + str(i) + \".pkl\"\n",
    "    scores = return_haidt_foundations(file)\n",
    "    values.append(scores)\n",
    "np_values = np.array(values)"
   ]
  },
  {
   "cell_type": "code",
   "execution_count": 5,
   "id": "124d7fb2",
   "metadata": {},
   "outputs": [
    {
     "data": {
      "text/plain": [
       "(0.0, 5.0)"
      ]
     },
     "execution_count": 5,
     "metadata": {},
     "output_type": "execute_result"
    },
    {
     "data": {
      "image/png": "[encoded data removed]",
      "text/plain": [
       "<Figure size 432x288 with 1 Axes>"
      ]
     },
     "metadata": {
      "needs_background": "light"
     },
     "output_type": "display_data"
    }
   ],
   "source": [
    "B = plt.boxplot(np_values[:, :5])\n",
    "plt.xticks(range(1,6,1), value_labels, size=14)\n",
    "whiskerprops={'color' : 'tab:blue'}, \n",
    "plt.xlabel(\"Moral Foundations\")\n",
    "plt.ylabel(\"MFQ Scores\")\n",
    "plt.ylim([0,5])\n"
   ]
  }
 ],
 "metadata": {
  "kernelspec": {
   "display_name": "Python 3 (ipykernel)",
   "language": "python",
   "name": "python3"
  },
  "language_info": {
   "codemirror_mode": {
    "name": "ipython",
    "version": 3
   },
   "file_extension": ".py",
   "mimetype": "text/x-python",
   "name": "python",
   "nbconvert_exporter": "python",
   "pygments_lexer": "ipython3",
   "version": "3.9.13"
  }
 },
 "nbformat": 4,
 "nbformat_minor": 5
}
